{
 "cells": [
  {
   "cell_type": "code",
   "execution_count": 6,
   "metadata": {},
   "outputs": [
    {
     "name": "stdout",
     "output_type": "stream",
     "text": [
      "['IN_category_id.json', 'MXvideos.csv', '.DS_Store', 'RU_category_id.json', 'JP_category_id.json', 'FR_category_id.json', 'INvideos.csv', 'GB_category_id.json', 'DEvideos.csv', 'JPvideos.csv', 'KR_category_id.json', 'KRvideos.csv', 'CAvideos.csv', 'MX_category_id.json', 'RUvideos.csv', 'FRvideos.csv', 'CA_category_id.json', 'US_category_id.json', 'DE_category_id.json', 'USvideos.csv', 'GBvideos.csv', 'youtube-new']\n"
     ]
    }
   ],
   "source": [
    "import os\n",
    "print(os.listdir(\"../data/input/\"))"
   ]
  },
  {
   "cell_type": "code",
   "execution_count": 12,
   "metadata": {},
   "outputs": [],
   "source": [
    "from pathlib import Path\n",
    "from logging import getLogger, Formatter, FileHandler, StreamHandler, INFO, DEBUG\n",
    "\n",
    "\n",
    "def create_logger(exp_version):\n",
    "    log_file = (\"../logs/{}.log\".format(exp_version))\n",
    "\n",
    "    # logger\n",
    "    logger_ = getLogger(exp_version)\n",
    "    logger_.setLevel(DEBUG)\n",
    "\n",
    "    # formatter\n",
    "    fmr = Formatter(\"[%(levelname)s] %(asctime)s >>\\t%(message)s\")\n",
    "\n",
    "    # file handler\n",
    "    fh = FileHandler(log_file)\n",
    "    fh.setLevel(DEBUG)\n",
    "    fh.setFormatter(fmr)\n",
    "\n",
    "    # stream handler\n",
    "    ch = StreamHandler()\n",
    "    ch.setLevel(INFO)\n",
    "    ch.setFormatter(fmr)\n",
    "\n",
    "    logger_.addHandler(fh)\n",
    "    logger_.addHandler(ch)\n",
    "\n",
    "\n",
    "def get_logger(exp_version):\n",
    "    return getLogger(exp_version)"
   ]
  },
  {
   "cell_type": "code",
   "execution_count": 16,
   "metadata": {},
   "outputs": [
    {
     "name": "stderr",
     "output_type": "stream",
     "text": [
      "[INFO] 2020-05-08 14:42:18,181 >>\thello\n"
     ]
    }
   ],
   "source": [
    "# サンプル1\n",
    "VERSION = \"000\" # 実験番号\n",
    "create_logger(VERSION)\n",
    "get_logger(VERSION).info(\"hello\")\n",
    "\n",
    "# サンプル2\n",
    "\n",
    "# df = pd.read_csv('../input/train.csv')\n",
    "# get_logger(VERSION).info(df.columns)\n",
    "# get_logger(VERSION).info(df.shape)"
   ]
  },
  {
   "cell_type": "code",
   "execution_count": null,
   "metadata": {},
   "outputs": [],
   "source": []
  }
 ],
 "metadata": {
  "kernelspec": {
   "display_name": "Python 3",
   "language": "python",
   "name": "python3"
  },
  "language_info": {
   "codemirror_mode": {
    "name": "ipython",
    "version": 3
   },
   "file_extension": ".py",
   "mimetype": "text/x-python",
   "name": "python",
   "nbconvert_exporter": "python",
   "pygments_lexer": "ipython3",
   "version": "3.6.8"
  }
 },
 "nbformat": 4,
 "nbformat_minor": 4
}
